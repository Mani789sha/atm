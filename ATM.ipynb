{
 "cells": [
  {
   "cell_type": "code",
   "execution_count": 1,
   "metadata": {},
   "outputs": [],
   "source": [
    "from IPython.display import clear_output\n",
    "class Account:\n",
    "    def __init__(self,owner,balance,check_amount):\n",
    "        clear_output()\n",
    "        self.owner=owner\n",
    "        self.balance=balance\n",
    "        self.check_amount=check_amount\n",
    "        \n",
    "        \n",
    "    def deposit(self,dep):\n",
    "        self.dep=dep\n",
    "        self.balance = self.balance + self.dep \n",
    "        return self.balance\n",
    "    \n",
    "    def withdraw(self):\n",
    "        w =int(input(\"enter amount to withdraw from account: \"))\n",
    "        if (w<=self.balance):\n",
    "            print(\"withdrawl accepted\")\n",
    "            self.balance = self.balance - w\n",
    "        else:\n",
    "            print(\"funds unavailable!!\")\n",
    "    def transfer(self):\n",
    "        \n",
    "        \n",
    "        print(f\"{self.owner} has {self.balance} in savings and {self.check_amount} in checkings\")\n",
    "        amount=int(input(\"enter amount to transfer\"))\n",
    "        if (amount>self.check_amount):\n",
    "            print(\"funds unavailable!!!\")\n",
    "            self.check_amount=self.check_amount-amount\n",
    "            return self.check_amount\n",
    "            print(f\"{self.owner} has {self.balance} in savings and {self.check_amount} in checkings\")\n",
    "        else:\n",
    "            self.balance=self.balance+amount\n",
    "            self.check_amount=self.check_amount-amount\n",
    "            print(f\"{self.owner} has {self.balance} in savings and {self.check_amount} in checkings\")\n",
    "    def __str__(self):\n",
    "        return (f\"{self.owner} has {self.balance} in savings and {self.check_amount} in checkings\")"
   ]
  },
  {
   "cell_type": "code",
   "execution_count": 2,
   "metadata": {},
   "outputs": [],
   "source": [
    "my_ac=Account(\"manisha\",5000,1000)"
   ]
  },
  {
   "cell_type": "code",
   "execution_count": 9,
   "metadata": {},
   "outputs": [
    {
     "name": "stdout",
     "output_type": "stream",
     "text": [
      "manisha has 6000 in savings and 0 in checkings\n",
      "Thankyou for using ATM!\n"
     ]
    }
   ],
   "source": [
    "print(\"Welcome to ATM!!\")\n",
    "user_pin=int(input(\"please enter your 4 digit pin: \"))\n",
    "sample={\"a\":1,\"b\":2,\"c\":3,\"e\":4}\n",
    "pin = 5791\n",
    "if user_pin == pin:\n",
    "    print(\"correct pin\")\n",
    "    user_pin=int(input(\"please enter your 4 digit pin again to authenticate: \"))\n",
    "    if user_pin == pin:\n",
    "        print(\"1=  Check saving balance\") \n",
    "        print(\"2= Deposit funds\") \n",
    "        print(\"3= Withdraw funds from the savings\") \n",
    "        print(\"4= Transfer funds from checking balance to savings balance\")\n",
    "        user_choice = int(input(\"please enter you choice between 1 to 4: \"))\n",
    "        if user_choice == 1:\n",
    "            a=Account(\"manisha\",5000,1000)\n",
    "            print(my_ac)\n",
    "            print(\"Thankyou for using ATM!\")\n",
    "        elif user_choice == 2:\n",
    "            dep=int(input(\"enter your amount to deposit\"))\n",
    "            b=my_ac.deposit(dep)\n",
    "            print(my_ac)\n",
    "            print(\"Thankyou for using ATM!\") \n",
    "        elif user_choice == 3:\n",
    "            c=my_ac.withdraw()\n",
    "            print(my_ac)\n",
    "            print(\"Thankyou for using ATM!\")\n",
    "        elif user_choice == 4:\n",
    "            e=my_ac.transfer()\n",
    "            print(\"Thankyou for using ATM!\")\n",
    "        else:\n",
    "            print(\"invalid choice!!\")\n",
    "    else:\n",
    "        print(\"you have entered wrong pin!!!! try again\")\n",
    "else:\n",
    "    print(\"you have entered wrong pin!!!! try again\")"
   ]
  },
  {
   "cell_type": "code",
   "execution_count": null,
   "metadata": {},
   "outputs": [],
   "source": []
  }
 ],
 "metadata": {
  "kernelspec": {
   "display_name": "Python 3",
   "language": "python",
   "name": "python3"
  },
  "language_info": {
   "codemirror_mode": {
    "name": "ipython",
    "version": 3
   },
   "file_extension": ".py",
   "mimetype": "text/x-python",
   "name": "python",
   "nbconvert_exporter": "python",
   "pygments_lexer": "ipython3",
   "version": "3.7.6"
  }
 },
 "nbformat": 4,
 "nbformat_minor": 4
}
